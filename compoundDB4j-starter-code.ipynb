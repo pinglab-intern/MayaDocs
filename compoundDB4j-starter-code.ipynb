{
 "cells": [
  {
   "cell_type": "markdown",
   "metadata": {},
   "source": [
    "## Explore Drub Bank Data"
   ]
  },
  {
   "cell_type": "markdown",
   "metadata": {},
   "source": [
    "---------------"
   ]
  },
  {
   "cell_type": "code",
   "execution_count": 1,
   "metadata": {},
   "outputs": [],
   "source": [
    "import pandas as pd\n",
    "import json\n",
    "import pymongo\n",
    "from neo4j import GraphDatabase"
   ]
  },
  {
   "cell_type": "markdown",
   "metadata": {},
   "source": [
    "### Connect Neo4j Python Drive"
   ]
  },
  {
   "cell_type": "code",
   "execution_count": 2,
   "metadata": {},
   "outputs": [],
   "source": [
    "driver = GraphDatabase.driver(uri = \"bolt://34.222.190.54:xxxx\", auth = (\"neo4j\",\"xxxx\"))"
   ]
  },
  {
   "cell_type": "markdown",
   "metadata": {},
   "source": [
    "-------"
   ]
  },
  {
   "cell_type": "markdown",
   "metadata": {},
   "source": [
    "### Search the single Node"
   ]
  },
  {
   "cell_type": "code",
   "execution_count": 3,
   "metadata": {},
   "outputs": [
    {
     "name": "stdout",
     "output_type": "stream",
     "text": [
      "<Record n=<Node id=2484781 labels=set([u'Disease']) properties={u'efo_term': u'Cutaneous T-cell lymphoma', u'efo_id': u'EFO:0002913', u'mesh_heading': u'Lymphoma, T-Cell, Cutaneous', u'mesh_id': u'D016410'}>>\n",
      "<Record n=<Node id=2484782 labels=set([u'Disease']) properties={u'efo_term': u'stricture', u'efo_id': u'EFO:0006818', u'mesh_heading': u'Constriction, Pathologic', u'mesh_id': u'D003251'}>>\n",
      "<Record n=<Node id=2484783 labels=set([u'Disease']) properties={u'efo_term': u'primary myelofibrosis', u'efo_id': u'EFO:0002430', u'mesh_heading': u'Primary Myelofibrosis', u'mesh_id': u'D055728'}>>\n",
      "<Record n=<Node id=2484784 labels=set([u'Disease']) properties={u'efo_term': u'refractory anemia with excess blasts', u'efo_id': u'EFO:0003811', u'mesh_heading': u'Anemia, Refractory, with Excess of Blasts', u'mesh_id': u'D000754'}>>\n",
      "<Record n=<Node id=2484785 labels=set([u'Disease']) properties={u'efo_term': u'vasculitis', u'efo_id': u'EFO:0006803', u'mesh_heading': u'Vasculitis', u'mesh_id': u'D014657'}>>\n",
      "<Record n=<Node id=2484786 labels=set([u'Disease']) properties={u'efo_term': u'Ascites', u'efo_id': u'HP:0001541', u'mesh_heading': u'Ascites', u'mesh_id': u'D001201'}>>\n",
      "<Record n=<Node id=2484787 labels=set([u'Disease']) properties={u'efo_term': u'open-angle glaucoma', u'efo_id': u'EFO:0004190', u'mesh_heading': u'Glaucoma, Open-Angle', u'mesh_id': u'D005902'}>>\n",
      "<Record n=<Node id=2484788 labels=set([u'Disease']) properties={u'efo_term': u'neuroblastoma', u'efo_id': u'EFO:0000621', u'mesh_heading': u'Neuroblastoma', u'mesh_id': u'D009447'}>>\n",
      "<Record n=<Node id=2484789 labels=set([u'Disease']) properties={u'efo_term': u'idiopathic pulmonary fibrosis', u'efo_id': u'EFO:0000768', u'mesh_heading': u'Idiopathic Pulmonary Fibrosis', u'mesh_id': u'D054990'}>>\n",
      "<Record n=<Node id=2484790 labels=set([u'Disease']) properties={u'efo_term': u'colonic neoplasm', u'efo_id': u'EFO:0004288', u'mesh_heading': u'Colonic Neoplasms', u'mesh_id': u'D003110'}>>\n",
      "<Record n=<Node id=2484791 labels=set([u'Disease']) properties={u'efo_term': u'pancreatic ductal adenocarcinoma', u'efo_id': u'EFO:0002517', u'mesh_heading': u'Carcinoma, Pancreatic Ductal', u'mesh_id': u'D021441'}>>\n",
      "<Record n=<Node id=2484792 labels=set([u'Disease']) properties={u'efo_term': u'Familial adenomatous polyposis', u'efo_id': u'Orphanet:733', u'mesh_heading': u'Adenomatous Polyposis Coli', u'mesh_id': u'D011125'}>>\n",
      "<Record n=<Node id=2484793 labels=set([u'Disease']) properties={u'efo_term': u'pneumonia', u'efo_id': u'EFO:0003106', u'mesh_heading': u'Pneumonia', u'mesh_id': u'D011014'}>>\n",
      "<Record n=<Node id=2484794 labels=set([u'Disease']) properties={u'efo_term': u'neuropathic pain', u'efo_id': u'EFO:0005762', u'mesh_heading': u'Neuralgia', u'mesh_id': u'D009437'}>>\n",
      "<Record n=<Node id=2484795 labels=set([u'Disease']) properties={u'efo_term': u'Bronchiolitis', u'efo_id': u'HP:0011950', u'mesh_heading': u'Bronchiolitis', u'mesh_id': u'D001988'}>>\n",
      "<Record n=<Node id=2484796 labels=set([u'Disease']) properties={u'efo_term': u'periodontitis', u'efo_id': u'EFO:0000649', u'mesh_heading': u'Periodontitis', u'mesh_id': u'D010518'}>>\n",
      "<Record n=<Node id=2484797 labels=set([u'Disease']) properties={u'efo_term': u'Alopecia totalis', u'efo_id': u'Orphanet:700', u'mesh_heading': u'Alopecia', u'mesh_id': u'D000505'}>>\n",
      "<Record n=<Node id=2484798 labels=set([u'Disease']) properties={u'efo_term': u'malignant peritoneal mesothelioma', u'efo_id': u'EFO:0005567', u'mesh_heading': u'Mesothelioma', u'mesh_id': u'D008654'}>>\n",
      "<Record n=<Node id=2485719 labels=set([u'Disease']) properties={u'efo_term': u'subarachnoid hemorrhage', u'efo_id': u'EFO:0000713', u'mesh_heading': u'Subarachnoid Hemorrhage', u'mesh_id': u'D013345'}>>\n",
      "<Record n=<Node id=2485720 labels=set([u'Disease']) properties={u'efo_term': u'cholangiocarcinoma', u'efo_id': u'EFO:0005221', u'mesh_heading': u'Cholangiocarcinoma', u'mesh_id': u'D018281'}>>\n",
      "<Record n=<Node id=2485721 labels=set([u'Disease']) properties={u'efo_term': u'endometrial neoplasm', u'efo_id': u'EFO:0004230', u'mesh_heading': u'Endometrial Neoplasms', u'mesh_id': u'D016889'}>>\n",
      "<Record n=<Node id=2485722 labels=set([u'Disease']) properties={u'efo_term': u'adenoma {http://www.co-ode.org/patterns#createdBy=\"http://www.ebi.ac.uk/ontology/webulous#OPPL_pattern\"}', u'efo_id': u'EFO:0000232', u'mesh_heading': u'Adenoma', u'mesh_id': u'D000236'}>>\n",
      "<Record n=<Node id=2485723 labels=set([u'Disease']) properties={u'efo_term': u'cirrhosis of liver', u'efo_id': u'EFO:0001422', u'mesh_heading': u'Liver Cirrhosis', u'mesh_id': u'D008103'}>>\n",
      "<Record n=<Node id=2485724 labels=set([u'Disease']) properties={u'efo_term': u'Pruritus', u'efo_id': u'HP:0000989', u'mesh_heading': u'Pruritus', u'mesh_id': u'D011537'}>>\n",
      "<Record n=<Node id=2485725 labels=set([u'Disease']) properties={u'efo_term': u'spondyloarthropathy', u'efo_id': u'EFO:0000706', u'mesh_heading': u'Spondylarthropathies', u'mesh_id': u'D025242'}>>\n"
     ]
    }
   ],
   "source": [
    "with driver.session() as session:\n",
    "        result = session.run(\"MATCH (n:Disease) RETURN n LIMIT 25\")\n",
    "        for record in result:\n",
    "            print(record)"
   ]
  },
  {
   "cell_type": "code",
   "execution_count": 4,
   "metadata": {},
   "outputs": [
    {
     "name": "stdout",
     "output_type": "stream",
     "text": [
      "<Record n=<Node id=8600827 labels=set([u'Target']) properties={u'status': u'ACTIVE', u'entity_id': u'1', u'entity_type': u'TARGET', u'chembl_id': u'CHEMBL2074', u'target_type': u'SINGLE PROTEIN', u'pref_name': u'Maltase-glucoamylase', u'tid': u'1', u'species_group_flag': u'0', u'organism': u'Homo sapiens', u'tax_id': u'9606'}>>\n",
      "<Record n=<Node id=8600828 labels=set([u'Target']) properties={u'status': u'ACTIVE', u'entity_id': u'2', u'entity_type': u'TARGET', u'chembl_id': u'CHEMBL1971', u'target_type': u'SINGLE PROTEIN', u'pref_name': u'Sulfonylurea receptor 2', u'tid': u'2', u'species_group_flag': u'0', u'organism': u'Homo sapiens', u'tax_id': u'9606'}>>\n",
      "<Record n=<Node id=8600829 labels=set([u'Target']) properties={u'status': u'ACTIVE', u'entity_id': u'3', u'entity_type': u'TARGET', u'chembl_id': u'CHEMBL1827', u'target_type': u'SINGLE PROTEIN', u'pref_name': u'Phosphodiesterase 5A', u'tid': u'3', u'species_group_flag': u'0', u'organism': u'Homo sapiens', u'tax_id': u'9606'}>>\n",
      "<Record n=<Node id=8600830 labels=set([u'Target']) properties={u'status': u'ACTIVE', u'entity_id': u'4', u'entity_type': u'TARGET', u'chembl_id': u'CHEMBL1859', u'target_type': u'SINGLE PROTEIN', u'pref_name': u'Voltage-gated T-type calcium channel alpha-1H subunit', u'tid': u'4', u'species_group_flag': u'0', u'organism': u'Homo sapiens', u'tax_id': u'9606'}>>\n",
      "<Record n=<Node id=8600831 labels=set([u'Target']) properties={u'status': u'ACTIVE', u'entity_id': u'5', u'entity_type': u'TARGET', u'chembl_id': u'CHEMBL1884', u'target_type': u'SINGLE PROTEIN', u'pref_name': u'Nicotinic acetylcholine receptor alpha subunit', u'tid': u'5', u'species_group_flag': u'0', u'organism': u'Ascaris suum', u'tax_id': u'6253'}>>\n",
      "<Record n=<Node id=8600832 labels=set([u'Target']) properties={u'status': u'ACTIVE', u'entity_id': u'6', u'entity_type': u'TARGET', u'chembl_id': u'CHEMBL202', u'target_type': u'SINGLE PROTEIN', u'pref_name': u'Dihydrofolate reductase', u'tid': u'6', u'species_group_flag': u'0', u'organism': u'Homo sapiens', u'tax_id': u'9606'}>>\n",
      "<Record n=<Node id=8600833 labels=set([u'Target']) properties={u'status': u'ACTIVE', u'entity_id': u'7', u'entity_type': u'TARGET', u'chembl_id': u'CHEMBL1809', u'target_type': u'SINGLE PROTEIN', u'pref_name': u'Dihydrofolate reductase', u'tid': u'7', u'species_group_flag': u'0', u'organism': u'Escherichia coli K-12', u'tax_id': u'83333'}>>\n",
      "<Record n=<Node id=8600834 labels=set([u'Target']) properties={u'status': u'ACTIVE', u'entity_id': u'8', u'entity_type': u'TARGET', u'chembl_id': u'CHEMBL1862', u'target_type': u'SINGLE PROTEIN', u'pref_name': u'Tyrosine-protein kinase ABL', u'tid': u'8', u'species_group_flag': u'0', u'organism': u'Homo sapiens', u'tax_id': u'9606'}>>\n",
      "<Record n=<Node id=8600835 labels=set([u'Target']) properties={u'status': u'ACTIVE', u'entity_id': u'9', u'entity_type': u'TARGET', u'chembl_id': u'CHEMBL203', u'target_type': u'SINGLE PROTEIN', u'pref_name': u'Epidermal growth factor receptor erbB1', u'tid': u'9', u'species_group_flag': u'0', u'organism': u'Homo sapiens', u'tax_id': u'9606'}>>\n",
      "<Record n=<Node id=8600836 labels=set([u'Target']) properties={u'status': u'ACTIVE', u'entity_id': u'10', u'entity_type': u'TARGET', u'chembl_id': u'CHEMBL1852', u'target_type': u'SINGLE PROTEIN', u'pref_name': u'DNA-directed RNA polymerase beta chain', u'tid': u'10', u'species_group_flag': u'0', u'organism': u'Escherichia coli K-12', u'tax_id': u'83333'}>>\n",
      "<Record n=<Node id=8600837 labels=set([u'Target']) properties={u'status': u'ACTIVE', u'entity_id': u'11', u'entity_type': u'TARGET', u'chembl_id': u'CHEMBL204', u'target_type': u'SINGLE PROTEIN', u'pref_name': u'Thrombin', u'tid': u'11', u'species_group_flag': u'0', u'organism': u'Homo sapiens', u'tax_id': u'9606'}>>\n",
      "<Record n=<Node id=8600838 labels=set([u'Target']) properties={u'status': u'ACTIVE', u'entity_id': u'12', u'entity_type': u'TARGET', u'chembl_id': u'CHEMBL1801', u'target_type': u'SINGLE PROTEIN', u'pref_name': u'Plasminogen', u'tid': u'12', u'species_group_flag': u'0', u'organism': u'Homo sapiens', u'tax_id': u'9606'}>>\n",
      "<Record n=<Node id=8601413 labels=set([u'Target']) properties={u'status': u'ACTIVE', u'entity_id': u'11131', u'entity_type': u'TARGET', u'chembl_id': u'CHEMBL3578', u'target_type': u'SINGLE PROTEIN', u'pref_name': u'Aldehyde dehydrogenase dimeric NADP-preferring', u'tid': u'11131', u'species_group_flag': u'0', u'organism': u'Homo sapiens', u'tax_id': u'9606'}>>\n",
      "<Record n=<Node id=8601414 labels=set([u'Target']) properties={u'status': u'ACTIVE', u'entity_id': u'11132', u'entity_type': u'TARGET', u'chembl_id': u'CHEMBL3579', u'target_type': u'SINGLE PROTEIN', u'pref_name': u'Aldehyde dehydrogenase 1A3', u'tid': u'11132', u'species_group_flag': u'0', u'organism': u'Homo sapiens', u'tax_id': u'9606'}>>\n",
      "<Record n=<Node id=8601415 labels=set([u'Target']) properties={u'status': u'ACTIVE', u'entity_id': u'11134', u'entity_type': u'TARGET', u'chembl_id': u'CHEMBL3687', u'target_type': u'SINGLE PROTEIN', u'pref_name': u'Arachidonate 12-lipoxygenase', u'tid': u'11134', u'species_group_flag': u'0', u'organism': u'Homo sapiens', u'tax_id': u'9606'}>>\n",
      "<Record n=<Node id=8601416 labels=set([u'Target']) properties={u'status': u'ACTIVE', u'entity_id': u'11136', u'entity_type': u'TARGET', u'chembl_id': u'CHEMBL2797', u'target_type': u'SINGLE PROTEIN', u'pref_name': u'DNA polymerase alpha subunit', u'tid': u'11136', u'species_group_flag': u'0', u'organism': u'Mus musculus', u'tax_id': u'10090'}>>\n",
      "<Record n=<Node id=8601417 labels=set([u'Target']) properties={u'status': u'ACTIVE', u'entity_id': u'11138', u'entity_type': u'TARGET', u'chembl_id': u'CHEMBL3414', u'target_type': u'SINGLE PROTEIN', u'pref_name': u'Human herpesvirus 5 DNA polymerase', u'tid': u'11138', u'species_group_flag': u'0', u'organism': u'Human cytomegalovirus (strain AD169) (HHV-5) (Human herpesvirus 5)', u'tax_id': u'10360'}>>\n",
      "<Record n=<Node id=8601418 labels=set([u'Target']) properties={u'status': u'ACTIVE', u'entity_id': u'11140', u'entity_type': u'TARGET', u'chembl_id': u'CHEMBL284', u'target_type': u'SINGLE PROTEIN', u'pref_name': u'Dipeptidyl peptidase IV', u'tid': u'11140', u'species_group_flag': u'0', u'organism': u'Homo sapiens', u'tax_id': u'9606'}>>\n",
      "<Record n=<Node id=8601419 labels=set([u'Target']) properties={u'status': u'ACTIVE', u'entity_id': u'13', u'entity_type': u'TARGET', u'chembl_id': u'CHEMBL2065', u'target_type': u'SINGLE PROTEIN', u'pref_name': u'Beta-lactamase TEM', u'tid': u'13', u'species_group_flag': u'0', u'organism': u'Escherichia coli', u'tax_id': u'562'}>>\n",
      "<Record n=<Node id=8601420 labels=set([u'Target']) properties={u'status': u'ACTIVE', u'entity_id': u'14', u'entity_type': u'TARGET', u'chembl_id': u'CHEMBL1910', u'target_type': u'SINGLE PROTEIN', u'pref_name': u'Adenosine deaminase', u'tid': u'14', u'species_group_flag': u'0', u'organism': u'Homo sapiens', u'tax_id': u'9606'}>>\n",
      "<Record n=<Node id=8601421 labels=set([u'Target']) properties={u'status': u'ACTIVE', u'entity_id': u'15', u'entity_type': u'TARGET', u'chembl_id': u'CHEMBL205', u'target_type': u'SINGLE PROTEIN', u'pref_name': u'Carbonic anhydrase II', u'tid': u'15', u'species_group_flag': u'0', u'organism': u'Homo sapiens', u'tax_id': u'9606'}>>\n",
      "<Record n=<Node id=8601422 labels=set([u'Target']) properties={u'status': u'ACTIVE', u'entity_id': u'16', u'entity_type': u'TARGET', u'chembl_id': u'CHEMBL1950', u'target_type': u'SINGLE PROTEIN', u'pref_name': u'Antithrombin-III', u'tid': u'16', u'species_group_flag': u'0', u'organism': u'Homo sapiens', u'tax_id': u'9606'}>>\n",
      "<Record n=<Node id=8601423 labels=set([u'Target']) properties={u'status': u'ACTIVE', u'entity_id': u'18', u'entity_type': u'TARGET', u'chembl_id': u'CHEMBL1813', u'target_type': u'SINGLE PROTEIN', u'pref_name': u'Penicillin-binding protein 1A', u'tid': u'18', u'species_group_flag': u'0', u'organism': u'Escherichia coli K-12', u'tax_id': u'83333'}>>\n",
      "<Record n=<Node id=8601424 labels=set([u'Target']) properties={u'status': u'ACTIVE', u'entity_id': u'19', u'entity_type': u'TARGET', u'chembl_id': u'CHEMBL206', u'target_type': u'SINGLE PROTEIN', u'pref_name': u'Estrogen receptor alpha', u'tid': u'19', u'species_group_flag': u'0', u'organism': u'Homo sapiens', u'tax_id': u'9606'}>>\n",
      "<Record n=<Node id=8601425 labels=set([u'Target']) properties={u'status': u'ACTIVE', u'entity_id': u'21', u'entity_type': u'TARGET', u'chembl_id': u'CHEMBL2051', u'target_type': u'SINGLE PROTEIN', u'pref_name': u'Neuraminidase', u'tid': u'21', u'species_group_flag': u'0', u'organism': u'Influenza A virus (A/Puerto Rico/8/1934(H1N1))', u'tax_id': u'211044'}>>\n"
     ]
    }
   ],
   "source": [
    "with driver.session() as session:\n",
    "        result = session.run(\"MATCH (n:Target) RETURN n LIMIT 25\")\n",
    "        for record in result:\n",
    "            print(record)"
   ]
  },
  {
   "cell_type": "code",
   "execution_count": null,
   "metadata": {},
   "outputs": [],
   "source": []
  },
  {
   "cell_type": "code",
   "execution_count": null,
   "metadata": {},
   "outputs": [],
   "source": []
  },
  {
   "cell_type": "code",
   "execution_count": null,
   "metadata": {},
   "outputs": [],
   "source": []
  },
  {
   "cell_type": "code",
   "execution_count": null,
   "metadata": {},
   "outputs": [],
   "source": []
  },
  {
   "cell_type": "code",
   "execution_count": null,
   "metadata": {},
   "outputs": [],
   "source": []
  },
  {
   "cell_type": "code",
   "execution_count": null,
   "metadata": {},
   "outputs": [],
   "source": []
  }
 ],
 "metadata": {
  "kernelspec": {
   "display_name": "Python 2",
   "language": "python",
   "name": "python2"
  },
  "language_info": {
   "codemirror_mode": {
    "name": "ipython",
    "version": 2
   },
   "file_extension": ".py",
   "mimetype": "text/x-python",
   "name": "python",
   "nbconvert_exporter": "python",
   "pygments_lexer": "ipython2",
   "version": "2.7.17"
  }
 },
 "nbformat": 4,
 "nbformat_minor": 2
}
